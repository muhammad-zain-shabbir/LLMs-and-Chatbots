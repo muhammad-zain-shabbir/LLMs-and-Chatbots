{
 "cells": [
  {
   "cell_type": "code",
   "execution_count": 1,
   "id": "9debda61-d4c7-406e-8f48-699edea40f60",
   "metadata": {},
   "outputs": [
    {
     "name": "stdout",
     "output_type": "stream",
     "text": [
      "✅ FAQ data loaded\n",
      "🚀 Creating chatbot interface...\n",
      "🌐 A link will appear below. Click it to open your chatbot.\n",
      "You can ask questions about:\n",
      "- Pricing and costs\n",
      "- Services offered\n",
      "- Contact information\n",
      "- Business hours\n",
      "* Running on local URL:  http://0.0.0.0:7861\n",
      "* Running on public URL: https://8a1d9ca18c35dd924e.gradio.live\n",
      "\n",
      "This share link should expires in 1 week after this date. For free permanent hosting and GPU upgrades, We need to run `gradio deploy` from the terminal in the working directory to deploy to Hugging Face Spaces (https://huggingface.co/spaces)\n"
     ]
    },
    {
     "data": {
      "text/html": [
       "<div><iframe src=\"https://8a1d9ca18c35dd924e.gradio.live\" width=\"100%\" height=\"500\" allow=\"autoplay; camera; microphone; clipboard-read; clipboard-write;\" frameborder=\"0\" allowfullscreen></iframe></div>"
      ],
      "text/plain": [
       "<IPython.core.display.HTML object>"
      ]
     },
     "metadata": {},
     "output_type": "display_data"
    },
    {
     "data": {
      "text/plain": []
     },
     "execution_count": 1,
     "metadata": {},
     "output_type": "execute_result"
    }
   ],
   "source": [
    "# Complete Working Chatbot Code\n",
    "import json\n",
    "import pandas as pd\n",
    "import gradio as gr\n",
    "import re\n",
    "from difflib import SequenceMatcher\n",
    "\n",
    "# Sample Questions and Answers with keyword matching\n",
    "faq_data = [\n",
    "    {\n",
    "        \"intent\": \"pricing\",\n",
    "        \"keywords\": [\"cost\", \"price\", \"pricing\", \"expensive\", \"cheap\", \"money\", \"fee\", \"charge\"],\n",
    "        \"examples\": [\"How much does it cost?\", \"What are your prices?\", \"Give me pricing info\"],\n",
    "        \"response\": \"Our pricing depends on your requirements. Please visit our pricing page or contact support.\"\n",
    "    },\n",
    "    {\n",
    "        \"intent\": \"services\",\n",
    "        \"keywords\": [\"service\", \"services\", \"offer\", \"do\", \"help\", \"provide\", \"what\"],\n",
    "        \"examples\": [\"What services do you offer?\", \"Tell me about your services\", \"What can you help with?\"],\n",
    "        \"response\": \"We offer software development, data analytics, and automation solutions.\"\n",
    "    },\n",
    "    {\n",
    "        \"intent\": \"contact\",\n",
    "        \"keywords\": [\"contact\", \"phone\", \"email\", \"reach\", \"call\", \"address\"],\n",
    "        \"examples\": [\"How can I contact you?\", \"Give me your contact info\", \"Phone or email?\"],\n",
    "        \"response\": \"You can reach us at contact@business.com or call us at +1-800-123-4567.\"\n",
    "    },\n",
    "    {\n",
    "        \"intent\": \"hours\",\n",
    "        \"keywords\": [\"hours\", \"open\", \"opening\", \"working\", \"time\", \"when\"],\n",
    "        \"examples\": [\"When are you open?\", \"What are your working hours?\", \"Opening times?\"],\n",
    "        \"response\": \"We are open Monday to Friday, 9am to 6pm.\"\n",
    "    }\n",
    "]\n",
    "\n",
    "print(\"✅ FAQ data loaded\")\n",
    "\n",
    "def similarity_score(a, b):\n",
    "    \"\"\"Calculate similarity between two strings\"\"\"\n",
    "    return SequenceMatcher(None, a.lower(), b.lower()).ratio()\n",
    "\n",
    "def get_reply(message):\n",
    "    \"\"\"Get a reply based on keyword matching and similarity\"\"\"\n",
    "    message_lower = message.lower()\n",
    "    best_score = 0\n",
    "    best_response = \"I'm sorry, I don't understand. Please ask about pricing, services, contact info, or hours.\"\n",
    "    \n",
    "    for item in faq_data:\n",
    "        # Check keyword matching\n",
    "        keyword_score = 0\n",
    "        for keyword in item[\"keywords\"]:\n",
    "            if keyword in message_lower:\n",
    "                keyword_score += 1\n",
    "        \n",
    "        # Check similarity with examples\n",
    "        example_score = 0\n",
    "        for example in item[\"examples\"]:\n",
    "            score = similarity_score(message, example)\n",
    "            example_score = max(example_score, score)\n",
    "        \n",
    "        # Combine scores (30% keywords, 70% similarity)\n",
    "        total_score = (keyword_score * 0.3) + (example_score * 0.7)\n",
    "        \n",
    "        if total_score > best_score:\n",
    "            best_score = total_score\n",
    "            best_response = item[\"response\"]\n",
    "    \n",
    "    return best_response\n",
    "\n",
    "# Create Chatbot UI using Gradio\n",
    "def create_chatbot():\n",
    "    chat_ui = gr.Interface(\n",
    "        fn=get_reply,\n",
    "        inputs=gr.Textbox(lines=2, placeholder=\"Ask me a question...\"),\n",
    "        outputs=\"text\",\n",
    "        title=\"Simple Business Chatbot\",\n",
    "        description=\"Ask about pricing, services, contact info, or hours.\",\n",
    "        theme=gr.themes.Soft(),\n",
    "        examples=[\n",
    "            \"How much does it cost?\",\n",
    "            \"What services do you offer?\",\n",
    "            \"How can I contact you?\",\n",
    "            \"When are you open?\"\n",
    "        ]\n",
    "    )\n",
    "    return chat_ui\n",
    "\n",
    "# Create and launch the chatbot\n",
    "print(\"🚀 Creating chatbot interface...\")\n",
    "chatbot = create_chatbot()\n",
    "\n",
    "print(\"🌐 A link will appear below. Click it to open your chatbot.\")\n",
    "print(\"You can ask questions about:\")\n",
    "print(\"- Pricing and costs\")\n",
    "print(\"- Services offered\") \n",
    "print(\"- Contact information\")\n",
    "print(\"- Business hours\")\n",
    "\n",
    "# Launch with share=True to get a public link\n",
    "chatbot.launch(share=True, server_name=\"0.0.0.0\", server_port=7861)\n"
   ]
  },
  {
   "cell_type": "code",
   "execution_count": null,
   "id": "6c3f6529-650b-44a1-97ef-711c193cfbc7",
   "metadata": {},
   "outputs": [],
   "source": []
  }
 ],
 "metadata": {
  "kernelspec": {
   "display_name": "Python 3 (ipykernel)",
   "language": "python",
   "name": "python3"
  },
  "language_info": {
   "codemirror_mode": {
    "name": "ipython",
    "version": 3
   },
   "file_extension": ".py",
   "mimetype": "text/x-python",
   "name": "python",
   "nbconvert_exporter": "python",
   "pygments_lexer": "ipython3",
   "version": "3.12.7"
  }
 },
 "nbformat": 4,
 "nbformat_minor": 5
}
